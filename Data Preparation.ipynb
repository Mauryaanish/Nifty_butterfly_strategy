{
 "cells": [
  {
   "cell_type": "code",
   "execution_count": 26,
   "id": "f6e20e42",
   "metadata": {},
   "outputs": [],
   "source": [
    "import pandas as pd\n",
    "import numpy as np\n",
    "import datetime\n",
    "import matplotlib.pyplot as plt\n",
    "from glob import glob\n",
    "from dateutil.relativedelta import relativedelta,TH\n",
    "import warnings\n",
    "warnings.filterwarnings(\"ignore\")"
   ]
  },
  {
   "cell_type": "code",
   "execution_count": 27,
   "id": "fc62a605",
   "metadata": {},
   "outputs": [],
   "source": [
    "### Total one month data in a single File.  I create a one function and this function is convert single file to Date wise data file.\n",
    "    \n",
    "\n",
    "def Data_preparation(Data):\n",
    "    # Read Data_set \n",
    "    data = pd.read_csv(Data)\n",
    "    # Seprate Banknifty Future Price in dataset\n",
    "    \n",
    "    df =data[data['Ticker'] == 'BANKNIFTY-FUT'].reset_index(drop = 'Frist')\n",
    "    # create New columns 'Instrument'\n",
    "    \n",
    "    df['Instrument'] = 'FUTIDX'\n",
    "    df['Strike_price'] = '00'\n",
    "    \n",
    "    # Create Symbol\n",
    "    df['Symbol'] = df['Ticker'].apply(lambda x: x.split('-')[0])\n",
    "    \n",
    "    # Create Timestamp\n",
    "    df['Timestamp']=df['Date/Time'].apply(lambda x: x.split(' ')[0])\n",
    "    \n",
    "    # Create Nifty Fut dataframe and Timestamp\n",
    "    df1 =data[data['Ticker'] == 'NIFTY-FUT'].reset_index(drop = True)\n",
    "    df1['Instrument'] ='FUTIDX'\n",
    "    df1['Strike_price'] = \"00\"\n",
    "    df1['Symbol']=df1['Ticker'].apply(lambda x: x.split('-')[0])\n",
    "    df1['Timestamp'] =df1['Date/Time'].apply(lambda x: x.split(' ')[0])\n",
    "    \n",
    "    # Create new dataframe and store option data and drop not required Data\n",
    "    no_data = ['BANKNIFTY' , 'BANKNIFTY-FUT' , 'NIFTY' , 'NIFTY-FUT' , 'FINNIFTY-FUT' , 'INDIAVIX']\n",
    "    df2 = data[~data['Ticker'].isin(no_data)].reset_index(drop = 'Frist')\n",
    "    df2['Instrument'] = 'OPTIDX'\n",
    "    df3 =df2['Ticker'].apply(lambda x: x.split('Y')[-1].split('CE')[0])\n",
    "    df2['Strike_price'] = df3.apply(lambda x: x.split('PE')[0])\n",
    "    df2['Option_Type'] = df2['Ticker'].apply(lambda x: x.split('Y')[-1].split('0')[-1])\n",
    "    df2['Symbol'] = df2['Ticker'].apply(lambda x: x.split('Y')[0])\n",
    "    df2['Symbol'] = df2['Symbol'].replace({'BANKNIFT' : 'BANKNIFTY' , 'NIFT' : 'NIFTY'})\n",
    "    df2['Timestamp']=df2['Date/Time'].apply(lambda x: x.split(\" \")[0])\n",
    "    \n",
    "    # marge all data frame in sigle dataframe\n",
    "    new_data = pd.concat([df,df1,df2])\n",
    "    new_data['Option_Type']=new_data['Option_Type'].fillna('XX')\n",
    "    \n",
    "    # drop Not Required columns\n",
    "    new_data.drop(['Ticker' , 'Volume' , 'Open Interest'], axis=1 , inplace = True)\n",
    "    new_data['Strike_price'] = new_data['Strike_price'].astype('int')\n",
    "    for i in new_data['Timestamp'].unique():\n",
    "        final = new_data[new_data['Timestamp'] == i]\n",
    "        # Store data in date wise file\n",
    "        final.to_csv(f'Option_data_{i}' , index=False)"
   ]
  },
  {
   "cell_type": "code",
   "execution_count": 28,
   "id": "556fa427",
   "metadata": {},
   "outputs": [],
   "source": [
    "Data_preparation('AUGUST-2022-MONTHLY-Expiry-data _Vege.csv')"
   ]
  },
  {
   "cell_type": "code",
   "execution_count": null,
   "id": "f8677909",
   "metadata": {},
   "outputs": [],
   "source": []
  }
 ],
 "metadata": {
  "kernelspec": {
   "display_name": "Python 3 (ipykernel)",
   "language": "python",
   "name": "python3"
  },
  "language_info": {
   "codemirror_mode": {
    "name": "ipython",
    "version": 3
   },
   "file_extension": ".py",
   "mimetype": "text/x-python",
   "name": "python",
   "nbconvert_exporter": "python",
   "pygments_lexer": "ipython3",
   "version": "3.11.4"
  }
 },
 "nbformat": 4,
 "nbformat_minor": 5
}
